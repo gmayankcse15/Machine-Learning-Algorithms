{
 "cells": [
  {
   "cell_type": "code",
   "execution_count": 7,
   "metadata": {},
   "outputs": [
    {
     "data": {
      "image/png": "[encoded data removed]",
      "text/plain": [
       "<Figure size 432x288 with 1 Axes>"
      ]
     },
     "metadata": {
      "needs_background": "light"
     },
     "output_type": "display_data"
    }
   ],
   "source": [
    "import numpy as np\n",
    "import matplotlib.pyplot as plt\n",
    "import math\n",
    "\n",
    "file = open('dataset', 'r')\n",
    "lines = file.read().splitlines()\n",
    "\n",
    "x = []\n",
    "y = []\n",
    "c = []\n",
    "\n",
    "for line in lines[1:]:\n",
    "    l = line.split(' ')\n",
    "    x.append((float)(l[0]))\n",
    "    y.append((float)(l[1]))\n",
    "    c.append((float)(l[2]))\n",
    "\n",
    "\n",
    "    \n",
    "plt.scatter(x, y, c = c)\n",
    "plt.show()\n",
    "    "
   ]
  },
  {
   "cell_type": "code",
   "execution_count": 8,
   "metadata": {},
   "outputs": [
    {
     "data": {
      "image/png": "[encoded data removed]",
      "text/plain": [
       "<Figure size 432x288 with 1 Axes>"
      ]
     },
     "metadata": {
      "needs_background": "light"
     },
     "output_type": "display_data"
    }
   ],
   "source": [
    "new_point = (3.5,6.5)\n",
    "x.append(new_point[0])\n",
    "y.append(new_point[1])\n",
    "c.append(3)\n",
    "\n",
    "plt.scatter(x, y, c= c)\n",
    "plt.show()\n"
   ]
  },
  {
   "cell_type": "code",
   "execution_count": 9,
   "metadata": {},
   "outputs": [
    {
     "name": "stdout",
     "output_type": "stream",
     "text": [
      "[5.1478150704935, 2.9154759474226504, 2.1213203435596424, 4.301162633521313, 4.527692569068709, 6.041522986797286, 4.743416490252569, 3.5355339059327378, 2.9154759474226504, 2.0615528128088303, 3.3541019662496847, 2.23606797749979, 3.8078865529319543, 4.743416490252569, 3.5355339059327378, 2.5495097567963922]\n",
      "\n",
      "16\n",
      "[2.0615528128088303, 2.1213203435596424, 2.23606797749979, 2.5495097567963922, 2.9154759474226504]\n",
      "[9, 2, 11, 15, 1]\n"
     ]
    }
   ],
   "source": [
    "# knn\n",
    "k = 5\n",
    "\n",
    "\n",
    "dist = []\n",
    "for i in range(0 , len(x)-1):\n",
    "    x1 = x[i]\n",
    "    x2 = new_point[0]\n",
    "    y1 = y[i]\n",
    "    y2 = new_point[1]\n",
    "    d  = math.sqrt((x1 - x2)**2 + (y1 - y2)**2)\n",
    "    dist.append(d)\n",
    "\n",
    "print(dist)\n",
    "print()\n",
    "\n",
    "#dist2 = dist.copy()\n",
    "\n",
    "\n",
    "# finding k newarest distance and corresponding classes\n",
    "\n",
    "\n",
    "\n",
    "minimum = 10000\n",
    "index = -1\n",
    "n_dist = []\n",
    "indx = []\n",
    "\n",
    "print(len(dist))\n",
    "\n",
    "for i in range(0, k):\n",
    "    minimum = 100000\n",
    "    for j in range(0, len(dist)):\n",
    "        if(dist[j] < minimum and dist[j] != -1):\n",
    "            minimum = dist[j]\n",
    "            index = j\n",
    "    n_dist.append(minimum)\n",
    "    indx.append(index)\n",
    "    dist[index] = -1\n",
    "\n",
    "print(n_dist) # k nearest distance\n",
    "print(indx)  # correspoding index\n",
    "\n",
    "    \n",
    "    "
   ]
  },
  {
   "cell_type": "code",
   "execution_count": 10,
   "metadata": {},
   "outputs": [
    {
     "name": "stdout",
     "output_type": "stream",
     "text": [
      "[2.0, 1.0, 2.0, 2.0, 1.0]\n"
     ]
    }
   ],
   "source": [
    "# finding the correspoding classes\n",
    "clss = []\n",
    "\n",
    "for i in range(0, k):\n",
    "    clss.append(c[indx[i]])\n",
    "print(clss)\n",
    "\n",
    "cntr = [0 for i in range(3)]\n",
    "#print(clss)\n",
    "\n",
    "for i in range(0, k):\n",
    "    cntr[(int)(clss[i])] += 1\n",
    "\n",
    "    \n",
    "\n",
    "    \n"
   ]
  },
  {
   "cell_type": "code",
   "execution_count": 11,
   "metadata": {},
   "outputs": [
    {
     "name": "stdout",
     "output_type": "stream",
     "text": [
      "class is 2\n"
     ]
    },
    {
     "data": {
      "image/png": "[encoded data removed]",
      "text/plain": [
       "<Figure size 432x288 with 1 Axes>"
      ]
     },
     "metadata": {
      "needs_background": "light"
     },
     "output_type": "display_data"
    }
   ],
   "source": [
    "# class    \n",
    "z = cntr.index(max(cntr))\n",
    "print(\"class is\", z)\n",
    "\n",
    "\n",
    "c[len(c) -1] = z\n",
    "\n",
    "\n",
    "plt.scatter(x, y , c = c)\n",
    "plt.show()"
   ]
  },
  {
   "cell_type": "code",
   "execution_count": null,
   "metadata": {
    "collapsed": true
   },
   "outputs": [],
   "source": []
  },
  {
   "cell_type": "code",
   "execution_count": null,
   "metadata": {},
   "outputs": [],
   "source": []
  }
 ],
 "metadata": {
  "kernelspec": {
   "display_name": "Python 3",
   "language": "python",
   "name": "python3"
  },
  "language_info": {
   "codemirror_mode": {
    "name": "ipython",
    "version": 3
   },
   "file_extension": ".py",
   "mimetype": "text/x-python",
   "name": "python",
   "nbconvert_exporter": "python",
   "pygments_lexer": "ipython3",
   "version": "3.6.7"
  }
 },
 "nbformat": 4,
 "nbformat_minor": 2
}
